{
 "cells": [
  {
   "cell_type": "markdown",
   "metadata": {},
   "source": [
    "# 전처리: 챕터별로 내용을 분리하는 단계\n",
    "### 정규식 매칭에 시간이 오래걸려서 따로 수행 후 파일로 빼내었음"
   ]
  },
  {
   "cell_type": "markdown",
   "metadata": {},
   "source": [
    "# 패키지 로드"
   ]
  },
  {
   "cell_type": "code",
   "execution_count": 1,
   "metadata": {},
   "outputs": [],
   "source": [
    "from itertools import islice # for print head\n",
    "import re # 정규표현식 모듈\n",
    "from pandas import DataFrame as df # dataframe 을 활용하기 위함"
   ]
  },
  {
   "cell_type": "markdown",
   "metadata": {},
   "source": [
    "# 1. 문서전처리"
   ]
  },
  {
   "cell_type": "markdown",
   "metadata": {},
   "source": [
    "### 1.1 문서 로드"
   ]
  },
  {
   "cell_type": "code",
   "execution_count": 2,
   "metadata": {},
   "outputs": [
    {
     "name": "stdout",
     "output_type": "stream",
     "text": [
      "['Chapter 1\\n', 'It is a truth universally acknowledged, that a single man in possession of a good fortune, must be in want of a wife.\\n', '\\n', 'However little known the feelings or views of such a man may be on his first entering a neighbourhood, this truth is so well fixed in the minds of the surrounding families, that he is considered the rightful property of some one or other of their daughters.\\n', '\\n', '“My dear Mr. Bennet,” said his lady to him one day, “have you heard that Netherfield Park is let at last?”\\n', '\\n', 'Mr. Bennet replied that he had not.\\n', '\\n', '“But it is,” returned she; “for Mrs. Long has just been here, and she told me all about it.”\\n']\n"
     ]
    }
   ],
   "source": [
    "# print document's 10 lines\n",
    "bookpath = \"data/pride_and_prejudice_content_only.txt\"\n",
    "with open(bookpath, \"r\") as myfile:\n",
    "    head = list(islice(myfile, 10))\n",
    "print (head)"
   ]
  },
  {
   "cell_type": "code",
   "execution_count": 3,
   "metadata": {},
   "outputs": [],
   "source": [
    "# 문서를 줄단위로 읽어들임\n",
    "# text content array\n",
    "with open(bookpath) as f:\n",
    "    book_raw_array = f.readlines()"
   ]
  },
  {
   "cell_type": "markdown",
   "metadata": {},
   "source": [
    "### 1.2 문서의 챕터 분할: 사용할 챕터는 11개 chapter에서 수행 (2,3,4,5,6,7,9,11,13,15,17)"
   ]
  },
  {
   "cell_type": "code",
   "execution_count": 4,
   "metadata": {},
   "outputs": [],
   "source": [
    "# 줄번호를 달아줌\n",
    "prepro = df(data = {'book':book_raw_array})\n",
    "prepro[\"linenumber\"] = prepro.index\n",
    "prepro[\"chapter\"] = 0"
   ]
  },
  {
   "cell_type": "code",
   "execution_count": 5,
   "metadata": {},
   "outputs": [
    {
     "name": "stdout",
     "output_type": "stream",
     "text": [
      "“But I can assure you,” she added, “that Lizzy does not lose much by not suiting his fancy; for he is a most disagreeable, horrid man, not at all worth pleasing. So high and so conceited that there was no enduring him! He walked here, and he walked there, fancying himself so very great! Not handsome enough to dance with! I wish you had been there, my dear, to have given him one of your set-downs. I quite detest the man.”\n",
      "\n"
     ]
    }
   ],
   "source": [
    "# 정규 표현식으로 문서를 챕터별로 분할\n",
    "p = re.compile(\"^[Cc]hapter [\\\\divxlc]\")\n",
    "t = prepro[\"book\"][173]\n",
    "print(t)\n",
    "m = p.match(t)"
   ]
  },
  {
   "cell_type": "code",
   "execution_count": 6,
   "metadata": {},
   "outputs": [
    {
     "name": "stderr",
     "output_type": "stream",
     "text": [
      "/home/kkm/anaconda3/envs/tensorflow_py35/lib/python3.5/site-packages/ipykernel/__main__.py:6: SettingWithCopyWarning: \n",
      "A value is trying to be set on a copy of a slice from a DataFrame\n",
      "\n",
      "See the caveats in the documentation: http://pandas.pydata.org/pandas-docs/stable/indexing.html#indexing-view-versus-copy\n",
      "/home/kkm/anaconda3/envs/tensorflow_py35/lib/python3.5/site-packages/ipykernel/__main__.py:14: SettingWithCopyWarning: \n",
      "A value is trying to be set on a copy of a slice from a DataFrame\n",
      "\n",
      "See the caveats in the documentation: http://pandas.pydata.org/pandas-docs/stable/indexing.html#indexing-view-versus-copy\n"
     ]
    },
    {
     "name": "stdout",
     "output_type": "stream",
     "text": [
      "line 수: 4845\n"
     ]
    },
    {
     "name": "stderr",
     "output_type": "stream",
     "text": [
      "/home/kkm/anaconda3/envs/tensorflow_py35/lib/python3.5/site-packages/ipykernel/__main__.py:16: SettingWithCopyWarning: \n",
      "A value is trying to be set on a copy of a slice from a DataFrame\n",
      "\n",
      "See the caveats in the documentation: http://pandas.pydata.org/pandas-docs/stable/indexing.html#indexing-view-versus-copy\n"
     ]
    },
    {
     "name": "stdout",
     "output_type": "stream",
     "text": [
      "                                                   book  linenumber  chapter\n",
      "0                                           Chapter 1\\n           0        1\n",
      "1     It is a truth universally acknowledged, that a...           1        1\n",
      "2                                                    \\n           2        1\n",
      "3     However little known the feelings or views of ...           3        1\n",
      "4                                                    \\n           4        1\n",
      "5     “My dear Mr. Bennet,” said his lady to him one...           5        1\n",
      "6                                                    \\n           6        1\n",
      "7                 Mr. Bennet replied that he had not.\\n           7        1\n",
      "8                                                    \\n           8        1\n",
      "9     “But it is,” returned she; “for Mrs. Long has ...           9        1\n",
      "10                                                   \\n          10        1\n",
      "11                         Mr. Bennet made no answer.\\n          11        1\n",
      "12                                                   \\n          12        1\n",
      "13    “Do you not want to know who has taken it?” cr...          13        1\n",
      "14                                                   \\n          14        1\n",
      "15    “You want to tell me, and I have no objection ...          15        1\n",
      "16                                                   \\n          16        1\n",
      "17                        This was invitation enough.\\n          17        1\n",
      "18                                                   \\n          18        1\n",
      "19    “Why, my dear, you must know, Mrs. Long says t...          19        1\n",
      "20                                                   \\n          20        1\n",
      "21                                “What is his name?”\\n          21        1\n",
      "22                                                   \\n          22        1\n",
      "23                                         “Bingley.”\\n          23        1\n",
      "24                                                   \\n          24        1\n",
      "25                         “Is he married or single?”\\n          25        1\n",
      "26                                                   \\n          26        1\n",
      "27    “Oh! Single, my dear, to be sure! A single man...          27        1\n",
      "28                                                   \\n          28        1\n",
      "29                  “How so? How can it affect them?”\\n          29        1\n",
      "...                                                 ...         ...      ...\n",
      "4815  Please check the Project Gutenberg Web pages f...        4815       61\n",
      "4816  methods and addresses.  Donations are accepted...        4816       61\n",
      "4817  ways including checks, online payments and cre...        4817       61\n",
      "4818  To donate, please visit: http://pglaf.org/dona...        4818       61\n",
      "4819                                                 \\n        4819       61\n",
      "4820                                                 \\n        4820       61\n",
      "4821  Section 5.  General Information About Project ...        4821       61\n",
      "4822                                           works.\\n        4822       61\n",
      "4823                                                 \\n        4823       61\n",
      "4824  Professor Michael S. Hart is the originator of...        4824       61\n",
      "4825  concept of a library of electronic works that ...        4825       61\n",
      "4826  with anyone.  For thirty years, he produced an...        4826       61\n",
      "4827  Gutenberg-tm eBooks with only a loose network ...        4827       61\n",
      "4828                                                 \\n        4828       61\n",
      "4829                                                 \\n        4829       61\n",
      "4830  Project Gutenberg-tm eBooks are often created ...        4830       61\n",
      "4831  editions, all of which are confirmed as Public...        4831       61\n",
      "4832  unless a copyright notice is included.  Thus, ...        4832       61\n",
      "4833  keep eBooks in compliance with any particular ...        4833       61\n",
      "4834                                                 \\n        4834       61\n",
      "4835                                                 \\n        4835       61\n",
      "4836  Most people start at our Web site which has th...        4836       61\n",
      "4837                                                 \\n        4837       61\n",
      "4838                         http://www.gutenberg.org\\n        4838       61\n",
      "4839                                                 \\n        4839       61\n",
      "4840  This Web site includes information about Proje...        4840       61\n",
      "4841  including how to make donations to the Project...        4841       61\n",
      "4842  Archive Foundation, how to help produce our ne...        4842       61\n",
      "4843  subscribe to our email newsletter to hear abou...        4843       61\n",
      "4844                                                 \\n        4844       61\n",
      "\n",
      "[4845 rows x 3 columns]\n"
     ]
    }
   ],
   "source": [
    "# 정규 표현식으로 문서를 챕터별로 분할\n",
    "# 여기서 시간이 많이 걸리므로 이후, 처리한 데이터를 밖으로 빼내기로 함\n",
    "p = re.compile(\"^[Cc]hapter \\d\\d?\")\n",
    "#p = re.compile(\"\\n\")\n",
    "\n",
    "prepro[\"chapter\"][0] = 1\n",
    "\n",
    "print(\"line 수: \" + str(len(prepro)))\n",
    "\n",
    "for i in range(1, len(prepro)):\n",
    "#for i in range(1, 50):\n",
    "    m = p.match(prepro[\"book\"][i])\n",
    "    if m==None:\n",
    "        prepro[\"chapter\"][i] = prepro[\"chapter\"][i-1]\n",
    "    else:\n",
    "        prepro[\"chapter\"][i] = prepro[\"chapter\"][i-1]+1\n",
    "\n",
    "print(prepro)"
   ]
  },
  {
   "cell_type": "code",
   "execution_count": 9,
   "metadata": {},
   "outputs": [],
   "source": [
    "import pandas as pd\n",
    "writer = pd.ExcelWriter('data/chapters.xlsx')\n",
    "prepro.to_excel(writer,'Sheet1')\n",
    "writer.save()"
   ]
  },
  {
   "cell_type": "code",
   "execution_count": null,
   "metadata": {},
   "outputs": [],
   "source": []
  }
 ],
 "metadata": {
  "kernelspec": {
   "display_name": "Python [conda env:tensorflow_py35]",
   "language": "python",
   "name": "conda-env-tensorflow_py35-py"
  },
  "language_info": {
   "codemirror_mode": {
    "name": "ipython",
    "version": 3
   },
   "file_extension": ".py",
   "mimetype": "text/x-python",
   "name": "python",
   "nbconvert_exporter": "python",
   "pygments_lexer": "ipython3",
   "version": "3.5.5"
  }
 },
 "nbformat": 4,
 "nbformat_minor": 2
}
